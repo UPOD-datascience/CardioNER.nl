{
 "cells": [
  {
   "cell_type": "code",
   "execution_count": 1,
   "id": "fb377c9e",
   "metadata": {},
   "outputs": [],
   "source": [
    "import pandas"
   ]
  },
  {
   "cell_type": "code",
   "execution_count": null,
   "id": "a83767c2",
   "metadata": {},
   "outputs": [],
   "source": [
    "b1_withSug = pandas.read_csv('/media/bramiozo/Storage1/bramiozo/DEV/GIT/UPOD/CardioNER.nl/assets/b1/2_validated_w_sugs/nl/med/tsv/dt4h_cardioccc_annotation_transfer_nl_med.tsv', sep='\\t')\n",
    "b2_withSug = pandas.read_csv('/media/bramiozo/Storage1/bramiozo/DEV/GIT/UPOD/CardioNER.nl/assets/b2/2_validated_w_sugs/nl/med/tsv/dt4h_cardioccc_annotation_transfer_b2_nl_med.tsv', sep='\\t')"
   ]
  },
  {
   "cell_type": "code",
   "execution_count": 11,
   "id": "e94abe3e",
   "metadata": {},
   "outputs": [],
   "source": [
    "b1_withoutSug = pandas.read_csv('/media/bramiozo/Storage1/bramiozo/DEV/GIT/UPOD/CardioNER.nl/assets/b1/1_validated_without_sugs/nl/med/tsv/dt4h_cardioccc_annotation_transfer_nl_med.tsv', sep='\\t')\n",
    "b2_withoutSug = pandas.read_csv('/media/bramiozo/Storage1/bramiozo/DEV/GIT/UPOD/CardioNER.nl/assets/b2/1_validated_without_sugs/nl/med/tsv/dt4h_cardioccc_annotation_transfer_b2_nl_med.tsv', sep='\\t')"
   ]
  },
  {
   "cell_type": "code",
   "execution_count": 21,
   "id": "d23dee5b",
   "metadata": {},
   "outputs": [],
   "source": [
    "b1_unique = b1_withoutSug.name.unique().tolist()\n",
    "b2_unique = b2_withoutSug.name.unique().tolist()"
   ]
  },
  {
   "cell_type": "code",
   "execution_count": 22,
   "id": "2ba08a4f",
   "metadata": {},
   "outputs": [],
   "source": [
    "# recast into json with \n",
    "# { \n",
    "#   \"nl\": {\n",
    "#     \"train\": {\n",
    "#       \"symp\": [],\n",
    "#       \"med\": [],\n",
    "#       \"proc\": [],\n",
    "#       \"dis\": []\n",
    "#       },\n",
    "#     \"test\": {\n",
    "#       \"symp\": [],\n",
    "#       \"med\": [],\n",
    "#       \"proc\": [],\n",
    "#       \"dis\": []\n",
    "#       },\n",
    "#     \"validation\": {\n",
    "#       \"symp\": [],\n",
    "#       \"med\": [],\n",
    "#       \"proc\": [],\n",
    "#       \"dis\": []\n",
    "#       },\n",
    "#    }\n",
    "# }\n",
    "\n",
    "SplitDict = {\n",
    "    \"nl\": {\n",
    "        \"train\": {\n",
    "            \"symp\": b1_unique,\n",
    "            \"med\": b1_unique,\n",
    "            \"proc\": b1_unique,\n",
    "            \"dis\": b1_unique\n",
    "        },\n",
    "        \"test\": {\n",
    "            \"symp\": b2_unique,\n",
    "            \"med\": b2_unique,\n",
    "            \"proc\": b2_unique,\n",
    "            \"dis\": b2_unique\n",
    "        },\n",
    "        \"validation\": {\n",
    "            \"symp\": b2_unique,\n",
    "            \"med\": b2_unique,\n",
    "            \"proc\": b2_unique,\n",
    "            \"dis\": b2_unique\n",
    "        }\n",
    "    }\n",
    "}"
   ]
  },
  {
   "cell_type": "code",
   "execution_count": 23,
   "id": "6a8c0175",
   "metadata": {},
   "outputs": [],
   "source": [
    "import json\n",
    "with open('/media/bramiozo/Storage1/bramiozo/DEV/GIT/UPOD/CardioNER.nl/assets/splits_task3-4.json', 'w') as f:\n",
    "    json.dump(SplitDict, f, indent=4)"
   ]
  },
  {
   "cell_type": "code",
   "execution_count": 24,
   "id": "a5e70718",
   "metadata": {},
   "outputs": [
    {
     "data": {
      "text/plain": [
       "(237, 220)"
      ]
     },
     "execution_count": 24,
     "metadata": {},
     "output_type": "execute_result"
    }
   ],
   "source": [
    "len(b1_unique), len(b2_unique)"
   ]
  }
 ],
 "metadata": {
  "kernelspec": {
   "display_name": "cardioner-nl-e2JFinJK-py3.12",
   "language": "python",
   "name": "python3"
  },
  "language_info": {
   "codemirror_mode": {
    "name": "ipython",
    "version": 3
   },
   "file_extension": ".py",
   "mimetype": "text/x-python",
   "name": "python",
   "nbconvert_exporter": "python",
   "pygments_lexer": "ipython3",
   "version": "3.12.3"
  }
 },
 "nbformat": 4,
 "nbformat_minor": 5
}
