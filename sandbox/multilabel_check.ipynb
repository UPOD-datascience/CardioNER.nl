{
 "cells": [
  {
   "cell_type": "markdown",
   "metadata": {},
   "source": [
    "Load in .tsv and check characteristics of multi-labeled spans\n"
   ]
  },
  {
   "cell_type": "code",
   "execution_count": 1,
   "metadata": {},
   "outputs": [
    {
     "data": {
      "text/plain": [
       "True"
      ]
     },
     "execution_count": 1,
     "metadata": {},
     "output_type": "execute_result"
    }
   ],
   "source": [
    "import os\n",
    "import pandas as pd\n",
    "import dotenv\n",
    "from tqdm import tqdm\n",
    "\n",
    "# maximum rows and colums for pandas\n",
    "pd.set_option('display.max_rows', 500)\n",
    "pd.set_option('display.max_columns', 500)\n",
    "pd.set_option('display.width', 1000)\n",
    "\n",
    "dotenv.load_dotenv('.env')"
   ]
  },
  {
   "cell_type": "code",
   "execution_count": 32,
   "metadata": {},
   "outputs": [],
   "source": [
    "BASE_DIR = os.getenv('BASE_DIR')\n",
    "SUG_STR = '1_validated_without_sugs' # 0_brat_originals, 1_validated_without_sugs, 2_validated_w_sugs\n",
    "LANG = 'nl'"
   ]
  },
  {
   "cell_type": "code",
   "execution_count": 33,
   "metadata": {},
   "outputs": [],
   "source": [
    "os.chdir(r''+BASE_DIR)"
   ]
  },
  {
   "cell_type": "code",
   "execution_count": 34,
   "metadata": {},
   "outputs": [],
   "source": [
    "df_dict = {}\n",
    "for CLASS in ['dis', 'med', 'proc', 'symp']:\n",
    "    df1 = pd.read_csv(f'b1/{SUG_STR}/{LANG}/{CLASS}/tsv/dt4h_cardioccc_annotation_transfer_{LANG}_{CLASS}.tsv', sep='\\t')\n",
    "    df2 = pd.read_csv(f'b2/{SUG_STR}/{LANG}/{CLASS}/tsv/dt4h_cardioccc_annotation_transfer_b2_{LANG}_{CLASS}.tsv', sep='\\t')\n",
    "    df = pd.concat([df1, df2])\n",
    "    df_dict[CLASS] = df\n",
    "df_total = pd.concat(df_dict.values())"
   ]
  },
  {
   "cell_type": "code",
   "execution_count": 35,
   "metadata": {},
   "outputs": [
    {
     "data": {
      "text/plain": [
       "tag\n",
       "SYMPTOM       18253\n",
       "DISEASE       17580\n",
       "PROCEDURE     16157\n",
       "MEDICATION     4317\n",
       "Name: count, dtype: int64"
      ]
     },
     "execution_count": 35,
     "metadata": {},
     "output_type": "execute_result"
    }
   ],
   "source": [
    "df_total.tag.value_counts()"
   ]
  },
  {
   "cell_type": "code",
   "execution_count": 36,
   "metadata": {},
   "outputs": [
    {
     "name": "stderr",
     "output_type": "stream",
     "text": [
      "100%|██████████| 508/508 [00:21<00:00, 23.63it/s]\n"
     ]
    }
   ],
   "source": [
    "intersecting_spans = {}\n",
    "for name in tqdm(df_total.name.unique()):\n",
    "    _df = df_total.query(f'name==\"{name}\"')\n",
    "\n",
    "    span_tuples = list(zip(_df['start_span'].values, _df['end_span'].values))\n",
    "    procd = set()\n",
    "    intersected_spans = []\n",
    "    for k1, (start1, end1) in enumerate(span_tuples):\n",
    "        s1 = set(range(start1,end1))\n",
    "        for k2, (start2, end2) in enumerate(span_tuples):\n",
    "            if (k1 != k2): # & ((k1,k2) not in procd) & ((k2,k1) not in procd):\n",
    "                s2 = set(range(start2,end2))\n",
    "                if len(s1.intersection(s2))>0:\n",
    "                    intersected_spans.append({'span_1': (start1, end1), 'span_2': (start2, end2)})\n",
    "\n",
    "                procd.add((k1,k2))\n",
    "                procd.add((k2,k1))\n",
    "    if len(intersected_spans)>0:\n",
    "        intersecting_spans[name] = intersected_spans"
   ]
  },
  {
   "cell_type": "code",
   "execution_count": 37,
   "metadata": {},
   "outputs": [
    {
     "name": "stdout",
     "output_type": "stream",
     "text": [
      "There are 487 documents with overlapping spans\n"
     ]
    }
   ],
   "source": [
    "print(f\"There are {len(intersecting_spans)} documents with overlapping spans\" )"
   ]
  },
  {
   "cell_type": "code",
   "execution_count": 38,
   "metadata": {},
   "outputs": [
    {
     "name": "stdout",
     "output_type": "stream",
     "text": [
      "6404\n"
     ]
    }
   ],
   "source": [
    "tot = 0\n",
    "for v in intersecting_spans.values():\n",
    "    tot+=len(v)\n",
    "print(tot)"
   ]
  },
  {
   "cell_type": "code",
   "execution_count": 39,
   "metadata": {},
   "outputs": [],
   "source": [
    "df_total['overlap_with_dis'] = False\n",
    "df_total['overlap_with_med'] = False\n",
    "df_total['overlap_with_proc'] = False\n",
    "df_total['overlap_with_symp'] = False\n"
   ]
  },
  {
   "cell_type": "code",
   "execution_count": 40,
   "metadata": {},
   "outputs": [
    {
     "name": "stderr",
     "output_type": "stream",
     "text": [
      "100%|██████████| 487/487 [00:59<00:00,  8.13it/s]\n"
     ]
    }
   ],
   "source": [
    "for _name, spanlist in tqdm(intersecting_spans.items()):\n",
    "    for _spans in spanlist:\n",
    "        conds1 = (df_total.name==_name) & (df_total.start_span==_spans['span_1'][0]) & (df_total.end_span==_spans['span_1'][1])\n",
    "        conds2 = (df_total.name==_name) & (df_total.start_span==_spans['span_2'][0]) & (df_total.end_span==_spans['span_2'][1])\n",
    "\n",
    "        class_1 = df_total.loc[conds1, 'tag'].tolist()\n",
    "        class_2 = df_total.loc[conds2, 'tag'].tolist()\n",
    "\n",
    "        if 'DISEASE' in class_2:\n",
    "            df_total.loc[conds1, 'overlap_with_dis'] = True\n",
    "        if 'MEDICATION' in class_2:\n",
    "            df_total.loc[conds1, 'overlap_with_med'] = True\n",
    "        if 'PROCEDURE' in class_2:\n",
    "            df_total.loc[conds1, 'overlap_with_proc'] = True\n",
    "        if 'SYMPTOM' in class_2:\n",
    "            df_total.loc[conds1, 'overlap_with_symp'] = True \n",
    "\n",
    "        if 'DISEASE' in class_1:\n",
    "            df_total.loc[conds2, 'overlap_with_dis'] = True\n",
    "        if 'MEDICATION' in class_1:\n",
    "            df_total.loc[conds2, 'overlap_with_med'] = True\n",
    "        if 'PROCEDURE' in class_1:\n",
    "            df_total.loc[conds2, 'overlap_with_proc'] = True\n",
    "        if 'SYMPTOM' in class_1:\n",
    "            df_total.loc[conds2, 'overlap_with_symp'] = True \n"
   ]
  },
  {
   "cell_type": "code",
   "execution_count": 41,
   "metadata": {},
   "outputs": [
    {
     "data": {
      "text/plain": [
       "overlap_with_dis\n",
       "False    54783\n",
       "True      1524\n",
       "Name: count, dtype: int64"
      ]
     },
     "execution_count": 41,
     "metadata": {},
     "output_type": "execute_result"
    }
   ],
   "source": [
    "df_total.overlap_with_dis.value_counts()"
   ]
  },
  {
   "cell_type": "code",
   "execution_count": 42,
   "metadata": {},
   "outputs": [
    {
     "data": {
      "text/plain": [
       "overlap_with_med\n",
       "False    56020\n",
       "True       287\n",
       "Name: count, dtype: int64"
      ]
     },
     "execution_count": 42,
     "metadata": {},
     "output_type": "execute_result"
    }
   ],
   "source": [
    "df_total.overlap_with_med.value_counts()"
   ]
  },
  {
   "cell_type": "code",
   "execution_count": 43,
   "metadata": {},
   "outputs": [
    {
     "data": {
      "text/plain": [
       "overlap_with_proc\n",
       "False    54136\n",
       "True      2171\n",
       "Name: count, dtype: int64"
      ]
     },
     "execution_count": 43,
     "metadata": {},
     "output_type": "execute_result"
    }
   ],
   "source": [
    "df_total.overlap_with_proc.value_counts()"
   ]
  },
  {
   "cell_type": "code",
   "execution_count": 44,
   "metadata": {},
   "outputs": [
    {
     "data": {
      "text/plain": [
       "overlap_with_symp\n",
       "False    53798\n",
       "True      2509\n",
       "Name: count, dtype: int64"
      ]
     },
     "execution_count": 44,
     "metadata": {},
     "output_type": "execute_result"
    }
   ],
   "source": [
    "df_total.overlap_with_symp.value_counts()"
   ]
  },
  {
   "cell_type": "code",
   "execution_count": 64,
   "metadata": {},
   "outputs": [],
   "source": [
    "df_with_overlap = df_total[df_total[['overlap_with_dis', \n",
    "                   'overlap_with_med',\n",
    "                   'overlap_with_proc',\n",
    "                   'overlap_with_symp']].apply(lambda x: any(x), axis=1)].sort_values(by=['name', 'start_span'])"
   ]
  },
  {
   "cell_type": "code",
   "execution_count": 71,
   "metadata": {},
   "outputs": [
    {
     "name": "stdout",
     "output_type": "stream",
     "text": [
      "OVERALL\n",
      "Overlap in 10.44% of the documents\n",
      "Classification\tTotal\tWith Disease\tWith Medication\tWith Procedure\tWith Symptoms\n",
      "------------------------------------------------------------------------------------------------------------------------\n",
      "DISEASE:\t7\t2.71\t\t0.46\t\t2.2\t\t3.32\n",
      "MEDICATION:\t7\t2.22\t\t0.88\t\t4.31\t\t0.23\n",
      "PROCEDURE:\t14\t2.31\t\t0.99\t\t1.63\t\t9.26\n",
      "SYMPTOM:\t11\t3.17\t\t0.05\t\t7.32\t\t2.3\n",
      "\n",
      "\n",
      "\n",
      "For documents with overlap\n",
      "Classification\tTotal\tWith Disease\tWith Medication\tWith Procedure\tWith Symptoms\n",
      "------------------------------------------------------------------------------------------------------------------------\n",
      "DISEASE:\t100\t36.59\t\t6.15\t\t29.67\t\t44.81\n",
      "MEDICATION:\t100\t31.48\t\t12.46\t\t60.98\t\t3.28\n",
      "PROCEDURE:\t100\t17.12\t\t7.33\t\t12.04\t\t68.5\n",
      "SYMPTOM:\t100\t27.68\t\t0.43\t\t63.98\t\t20.11\n"
     ]
    }
   ],
   "source": [
    "print(\"OVERALL\")\n",
    "tot=(df_total[['overlap_with_dis', 'overlap_with_med', 'overlap_with_proc', 'overlap_with_symp']].sum(axis=1)>0).mean()*100\n",
    "print(f\"Overlap in {round(tot, 2)}% of the documents\")\n",
    "print(\"Classification\\tTotal\\tWith Disease\\tWith Medication\\tWith Procedure\\tWith Symptoms\")\n",
    "print(\"-\"*120)\n",
    "for _tag in df_total.tag.unique():\n",
    "    tot=(df_total.query(f'tag==\"{_tag}\"')[['overlap_with_dis', 'overlap_with_med', 'overlap_with_proc', 'overlap_with_symp']].sum(axis=1)>0).mean()*100\n",
    "\n",
    "    dis_overlap = df_total.query(f'tag==\"{_tag}\"').overlap_with_dis.mean()*100\n",
    "    med_overlap = df_total.query(f'tag==\"{_tag}\"').overlap_with_med.mean()*100\n",
    "    proc_overlap = df_total.query(f'tag==\"{_tag}\"').overlap_with_proc.mean()*100\n",
    "    symp_overlap = df_total.query(f'tag==\"{_tag}\"').overlap_with_symp.mean()*100\n",
    "\n",
    "    print(f\"{_tag}:\\t{round(tot)}\\t{round(dis_overlap,2)}\\t\\t{round(med_overlap,2)}\\t\\t{round(proc_overlap,2)}\\t\\t{round(symp_overlap,2)}\")\n",
    "\n",
    "print(\"\\n\\n\")\n",
    "print(\"For documents with overlap\")\n",
    "print(\"Classification\\tTotal\\tWith Disease\\tWith Medication\\tWith Procedure\\tWith Symptoms\")\n",
    "print(\"-\"*120)\n",
    "for _tag in df_with_overlap.tag.unique():\n",
    "    tot=(df_with_overlap.query(f'tag==\"{_tag}\"')[['overlap_with_dis', 'overlap_with_med', 'overlap_with_proc', 'overlap_with_symp']].sum(axis=1)>0).mean()*100\n",
    "\n",
    "    dis_overlap = df_with_overlap.query(f'tag==\"{_tag}\"').overlap_with_dis.mean()*100\n",
    "    med_overlap = df_with_overlap.query(f'tag==\"{_tag}\"').overlap_with_med.mean()*100\n",
    "    proc_overlap = df_with_overlap.query(f'tag==\"{_tag}\"').overlap_with_proc.mean()*100\n",
    "    symp_overlap = df_with_overlap.query(f'tag==\"{_tag}\"').overlap_with_symp.mean()*100\n",
    "\n",
    "    print(f\"{_tag}:\\t{round(tot)}\\t{round(dis_overlap,2)}\\t\\t{round(med_overlap,2)}\\t\\t{round(proc_overlap,2)}\\t\\t{round(symp_overlap,2)}\")"
   ]
  }
 ],
 "metadata": {
  "kernelspec": {
   "display_name": "cardioner-nl-o7dqlUGo-py3.12",
   "language": "python",
   "name": "python3"
  },
  "language_info": {
   "codemirror_mode": {
    "name": "ipython",
    "version": 3
   },
   "file_extension": ".py",
   "mimetype": "text/x-python",
   "name": "python",
   "nbconvert_exporter": "python",
   "pygments_lexer": "ipython3",
   "version": "3.12.6"
  }
 },
 "nbformat": 4,
 "nbformat_minor": 2
}
