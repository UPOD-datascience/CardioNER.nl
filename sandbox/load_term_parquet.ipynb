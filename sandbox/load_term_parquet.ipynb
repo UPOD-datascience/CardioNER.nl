{
 "cells": [
  {
   "cell_type": "code",
   "execution_count": 12,
   "metadata": {},
   "outputs": [],
   "source": [
    "import pandas\n",
    "import numpy\n",
    "import os"
   ]
  },
  {
   "cell_type": "code",
   "execution_count": 3,
   "metadata": {},
   "outputs": [],
   "source": [
    "snomed_pairs = pandas.read_parquet(\"../assets/sap/pos_pairs_noCuis_snomed.parquet\")"
   ]
  },
  {
   "cell_type": "code",
   "execution_count": 4,
   "metadata": {},
   "outputs": [],
   "source": [
    "\n",
    "umls_pairs = pandas.read_parquet(\"../assets/sap/pos_pairs_noCuis_umls.parquet\")"
   ]
  },
  {
   "cell_type": "code",
   "execution_count": 7,
   "metadata": {},
   "outputs": [],
   "source": [
    "pairs = pandas.concat([snomed_pairs, umls_pairs], axis=0)\n",
    "pairs = pairs.drop_duplicates()"
   ]
  },
  {
   "cell_type": "code",
   "execution_count": 18,
   "metadata": {},
   "outputs": [],
   "source": [
    "numpy.savetxt(\"../assets/sap/pos_pairs_hard.csv\",\n",
    "               pairs.values,\n",
    "               delimiter=\"||\", \n",
    "               fmt='%s', \n",
    "               comments='', encoding=None)"
   ]
  }
 ],
 "metadata": {
  "kernelspec": {
   "display_name": "cardioner-nl-e2JFinJK-py3.12",
   "language": "python",
   "name": "python3"
  },
  "language_info": {
   "codemirror_mode": {
    "name": "ipython",
    "version": 3
   },
   "file_extension": ".py",
   "mimetype": "text/x-python",
   "name": "python",
   "nbconvert_exporter": "python",
   "pygments_lexer": "ipython3",
   "version": "3.12.3"
  }
 },
 "nbformat": 4,
 "nbformat_minor": 2
}
